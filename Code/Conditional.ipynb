{
 "cells": [
  {
   "cell_type": "markdown",
   "metadata": {},
   "source": [
    "Q1. Write a code in Python that prints whether the customer can buy the a mobile Phone or not based on his budget.\n",
    "\n",
    "• Input the budget.                    \n",
    "• Mobile price is 30000\n"
   ]
  },
  {
   "cell_type": "code",
   "execution_count": 3,
   "metadata": {},
   "outputs": [
    {
     "name": "stdout",
     "output_type": "stream",
     "text": [
      "You can buy the mobile phone.\n"
     ]
    }
   ],
   "source": [
    "budget = float(input(\"Enter your budget: \"))\n",
    "\n",
    "mobile_price = 30000\n",
    "\n",
    "if budget >= mobile_price:\n",
    "    print(\"You can buy the mobile phone.\")\n",
    "else:\n",
    "    print(\"You cannot buy the mobile phone.\")\n"
   ]
  },
  {
   "cell_type": "markdown",
   "metadata": {},
   "source": [
    "Q2. Suppose the price of the 32 GB, 64 GB, 128 GB and 256GB Phones are 15000, 20000, 30000, 40000 respectively. Write a conditional statement to print the price based on the internal storage of the phone. If the entered storage is not available print NA"
   ]
  },
  {
   "cell_type": "code",
   "execution_count": 4,
   "metadata": {},
   "outputs": [
    {
     "name": "stdout",
     "output_type": "stream",
     "text": [
      "Price: 20000\n"
     ]
    }
   ],
   "source": [
    "storage = int(input(\"Enter the internal storage (32, 64, 128, 256 GB): \"))\n",
    "\n",
    "if storage == 32:\n",
    "    print(\"Price: 15000\")\n",
    "elif storage == 64:\n",
    "    print(\"Price: 20000\")\n",
    "elif storage == 128:\n",
    "    print(\"Price: 30000\")\n",
    "elif storage == 256:\n",
    "    print(\"Price: 40000\")\n",
    "else:\n",
    "    print(\"NA\")\n"
   ]
  },
  {
   "cell_type": "markdown",
   "metadata": {},
   "source": [
    "Q3. Write a program for a candidate's selection prodedure for an examination with below conditions are given:\n",
    "\n",
    "• If the candidate score is above 80 in First Round, he/she is eligible to appear in Second Round else not.                 \n",
    "• If the candidate score is above 70 in Second Round, he/she is eligible to appear in Third Round else not.                 \n",
    "• If the candidate score is above 60 in Third Round, he/she is SELECTED else REJECTED."
   ]
  },
  {
   "cell_type": "code",
   "execution_count": 5,
   "metadata": {},
   "outputs": [
    {
     "name": "stdout",
     "output_type": "stream",
     "text": [
      "SELECTED\n"
     ]
    }
   ],
   "source": [
    "first_round = float(input(\"Enter the First Round score: \"))\n",
    "\n",
    "if first_round > 80:\n",
    "    second_round = float(input(\"Enter the Second Round score: \"))\n",
    "    \n",
    "    if second_round > 70:\n",
    "        third_round = float(input(\"Enter the Third Round score: \"))\n",
    "        \n",
    "        if third_round > 60:\n",
    "            print(\"SELECTED\")\n",
    "        else:\n",
    "            print(\"REJECTED\")\n",
    "    else:\n",
    "        print(\"Not eligible for Third Round.\")\n",
    "else:\n",
    "    print(\"Not eligible for Second Round.\")\n"
   ]
  },
  {
   "cell_type": "markdown",
   "metadata": {},
   "source": [
    "Q4. Print the Group of student based on given criteria: \n",
    "\n",
    "• If marks are more than or equal to 80 - Group1                    \n",
    "• If marks are more than or equal to 60 & less 80 - Group2                  \n",
    "• If marks are more than or equal to 40 & less 60 - Group3"
   ]
  },
  {
   "cell_type": "code",
   "execution_count": 6,
   "metadata": {},
   "outputs": [
    {
     "name": "stdout",
     "output_type": "stream",
     "text": [
      "Group1\n"
     ]
    }
   ],
   "source": [
    "marks = float(input(\"Enter the student's marks: \"))\n",
    "\n",
    "if marks >= 80:\n",
    "    print(\"Group1\")\n",
    "elif marks >= 60:\n",
    "    print(\"Group2\")\n",
    "elif marks >= 40:\n",
    "    print(\"Group3\")\n",
    "else:\n",
    "    print(\"No Group\")\n"
   ]
  },
  {
   "cell_type": "markdown",
   "metadata": {},
   "source": [
    "Q5. Nested Login System:\n",
    "\n",
    "• Ask for username and Password of a user              \n",
    "• If username is 'admin' ask for password                  \n",
    "• If username is incorrect print \"incorrect username\"                   \n",
    "• If password is incorrect print \"incorrect password\"                      \n",
    "• If password is 12345 print \"login successful\""
   ]
  },
  {
   "cell_type": "code",
   "execution_count": 7,
   "metadata": {},
   "outputs": [
    {
     "name": "stdout",
     "output_type": "stream",
     "text": [
      "Login successful\n"
     ]
    }
   ],
   "source": [
    "username = input(\"Enter username: \")\n",
    "\n",
    "if username == \"admin\":\n",
    "    password = input(\"Enter password: \")\n",
    "    \n",
    "    if password == \"12345\":\n",
    "        print(\"Login successful\")\n",
    "    else:\n",
    "        print(\"Incorrect password\")\n",
    "else:\n",
    "    print(\"Incorrect username\")\n"
   ]
  }
 ],
 "metadata": {
  "kernelspec": {
   "display_name": "Python 3",
   "language": "python",
   "name": "python3"
  },
  "language_info": {
   "codemirror_mode": {
    "name": "ipython",
    "version": 3
   },
   "file_extension": ".py",
   "mimetype": "text/x-python",
   "name": "python",
   "nbconvert_exporter": "python",
   "pygments_lexer": "ipython3",
   "version": "3.12.1"
  }
 },
 "nbformat": 4,
 "nbformat_minor": 2
}
